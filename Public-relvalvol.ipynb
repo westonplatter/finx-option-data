{
 "cells": [
  {
   "cell_type": "code",
   "execution_count": null,
   "id": "7af3ebad-afab-4a6f-97a6-e959e6301bcc",
   "metadata": {},
   "outputs": [],
   "source": [
    "import dask\n",
    "import dask.dataframe as dd\n",
    "import pandas as pd\n",
    "from pathlib import Path\n",
    "import numpy as np\n",
    "\n",
    "from finx_option_data.transforms import (\n",
    "    transform_last_trading_day_human, \n",
    "    transform_add_last_trading_day_week_number,\n",
    "    transform_columns_datetime, \n",
    "    transform_symbol_underlying, \n",
    "    transform_add_strike,\n",
    "    transform_add_call_put,\n",
    "    find_matching_row,\n",
    ")\n",
    "from finx_option_data.calculations import (\n",
    "    calc_front_back_delta_diff,\n",
    "    calc_front_back_mid_diff,\n",
    "    calc_front_back_volitality_diff,\n",
    "    calc_front_back_theta_diff\n",
    ")\n",
    "from finx_option_data.utils import timeit_context"
   ]
  },
  {
   "cell_type": "code",
   "execution_count": 21,
   "id": "a2899da1",
   "metadata": {},
   "outputs": [
    {
     "name": "stdout",
     "output_type": "stream",
     "text": [
      "2022-05-17 14:42:46,513 INFO sqlalchemy.engine.Engine select version()\n",
      "2022-05-17 14:42:46,514 INFO sqlalchemy.engine.Engine [raw sql] {}\n",
      "2022-05-17 14:42:46,630 INFO sqlalchemy.engine.Engine select current_schema()\n",
      "2022-05-17 14:42:46,653 INFO sqlalchemy.engine.Engine [raw sql] {}\n",
      "2022-05-17 14:42:46,721 INFO sqlalchemy.engine.Engine show standard_conforming_strings\n",
      "2022-05-17 14:42:46,721 INFO sqlalchemy.engine.Engine [raw sql] {}\n",
      "2022-05-17 14:42:46,789 INFO sqlalchemy.engine.Engine BEGIN (implicit)\n",
      "2022-05-17 14:42:46,793 INFO sqlalchemy.engine.Engine select relname from pg_class c join pg_namespace n on n.oid=c.relnamespace where pg_catalog.pg_table_is_visible(c.oid) and relname=%(name)s\n",
      "2022-05-17 14:42:46,799 INFO sqlalchemy.engine.Engine [generated in 0.00607s] {'name': 'metric_back_front_vol'}\n",
      "2022-05-17 14:42:46,883 INFO sqlalchemy.engine.Engine COMMIT\n"
     ]
    }
   ],
   "source": [
    "from finx_option_data.configs import Config\n",
    "config = Config(\".env.prod\")\n",
    "engine = config.engine_metrics"
   ]
  },
  {
   "cell_type": "code",
   "execution_count": 23,
   "id": "47c01e01",
   "metadata": {},
   "outputs": [],
   "source": [
    "engine"
   ]
  },
  {
   "cell_type": "markdown",
   "id": "40d40602",
   "metadata": {},
   "source": [
    "This is a data processing pipline. \n",
    "\n",
    "Steps, \n",
    "- Extract the data from S3 (atm, read from local fine drive)\n",
    "- Do transforms\n",
    "- Filter for just SPY data\n",
    "- Aggregate over the last hour of the market (3-4pm US/Eastern).\n",
    "- Construct the -Friday+Monday comp(pd.DataFrame) object\n",
    "- Calculate diffs (volatility, mid price, delta)\n",
    "- Generate summary plot\n",
    "\n",
    "Todos\n",
    "- [ ] for lastTradingDayWeekNumber_f, save metrics for (vol_diff, mid_diff, delta_diff, vega_diff, gamma_diff wrt (DTE, vols=30,40,50,60,70))"
   ]
  },
  {
   "cell_type": "code",
   "execution_count": 7,
   "id": "090c01b1-a2ac-48c7-b9b8-c5d620f6dfd4",
   "metadata": {},
   "outputs": [],
   "source": [
    "# dask the entire directory\n",
    "# df = dd.read_parquet(\"/Users/vifo/work/lsc/finx-option-data/data/raw/2022/4/25/*.parquet.gzip\")\n",
    "\n",
    "# pandas read the entire directory\n",
    "data_dir = Path('/Users/vifo/work/lsc/finx-option-data/data/raw/2022/4/25/1650878173.parquet.gzip')\n",
    "df = pd.concat(\n",
    "    pd.read_parquet(parquet_file)\n",
    "    for parquet_file in data_dir.glob('*.parquet.gzip')\n",
    ")\n",
    "\n",
    "# single_file = \"/Users/vifo/work/lsc/finx-option-data/data/raw/2022/4/25/1650878196.parquet.gzip\"\n",
    "# df = dd.read_parquet(single_file)\n",
    "# df = pd.read_parquet(single_file)"
   ]
  },
  {
   "cell_type": "code",
   "execution_count": 8,
   "id": "5e021239-7f5b-4fb1-a271-1ad8bddd3413",
   "metadata": {},
   "outputs": [
    {
     "name": "stderr",
     "output_type": "stream",
     "text": [
      "2022-05-17 14:38:34.430 | DEBUG    | finx_option_data.utils:timeit_context:18 - 1.23 [transform_columns_datetime]\n",
      "2022-05-17 14:38:47.061 | DEBUG    | finx_option_data.utils:timeit_context:18 - 12.63 [transform_symbol_underlying]\n",
      "2022-05-17 14:38:59.709 | DEBUG    | finx_option_data.utils:timeit_context:18 - 12.65 [transform_add_strike]\n",
      "2022-05-17 14:39:02.414 | DEBUG    | finx_option_data.utils:timeit_context:18 - 2.70 [transform_add_call_put]\n",
      "2022-05-17 14:39:51.514 | DEBUG    | finx_option_data.utils:timeit_context:18 - 49.10 [transform_last_trading_day_human]\n",
      "2022-05-17 14:40:28.633 | DEBUG    | finx_option_data.utils:timeit_context:18 - 37.12 [transform_add_last_trading_day_week_number]\n"
     ]
    }
   ],
   "source": [
    "def transform(df):\n",
    "    with timeit_context(\"transform_columns_datetime\"):\n",
    "        df = transform_columns_datetime(df)\n",
    "\n",
    "    with timeit_context(\"transform_symbol_underlying\"):\n",
    "        df = transform_symbol_underlying(df)\n",
    "    \n",
    "    with timeit_context(\"transform_add_strike\"):\n",
    "        df = transform_add_strike(df)\n",
    "    \n",
    "    with timeit_context(\"transform_add_call_put\"):\n",
    "        df = transform_add_call_put(df)\n",
    "\n",
    "    with timeit_context(\"transform_last_trading_day_human\"):\n",
    "        df = transform_last_trading_day_human(df)\n",
    "\n",
    "    with timeit_context(\"transform_add_last_trading_day_week_number\"):\n",
    "        df = transform_add_last_trading_day_week_number(df)\n",
    "    \n",
    "    return df\n",
    "\n",
    "tdf = transform(df)"
   ]
  },
  {
   "cell_type": "code",
   "execution_count": 9,
   "id": "c665561d-aa9f-4f0f-afc7-3e9f095ce8e2",
   "metadata": {},
   "outputs": [],
   "source": [
    "def filter_df(df, \n",
    "    underlyings: list=None, \n",
    "    last_trading_day_min=None, \n",
    "    last_trading_day_max=None\n",
    "):\n",
    "    \n",
    "    if underlyings is not None:\n",
    "        df = df[ df['underlying'].isin(underlyings)].copy()\n",
    "    \n",
    "    if last_trading_day_min is not None:\n",
    "        df = df[last_trading_day_min <= df[\"lastTradingDay\"]].copy()\n",
    "    \n",
    "    if last_trading_day_max is not None:\n",
    "        df = df[df[\"lastTradingDay\"] <= last_trading_day_max].copy()\n",
    "        \n",
    "    return df\n",
    "\n",
    "tdf = filter_df(tdf, underlyings=[\"SPY\"])"
   ]
  },
  {
   "cell_type": "code",
   "execution_count": 10,
   "id": "212e89d9-4182-4c1e-938d-4f8cc1c6c69b",
   "metadata": {},
   "outputs": [],
   "source": [
    "x = pd.to_datetime('2022-04-25 20:00')\n",
    "\n",
    "tdf = (tdf.\n",
    "     query(\"@x <= sampleTimeInLong\").\n",
    "     groupby(\"symbol\").\n",
    "     agg({\n",
    "\n",
    "        \"ask\": \"last\",\n",
    "        \"bid\": \"last\", \n",
    "        \"strike\": \"last\", \n",
    "        \"call_put\": \"last\", \n",
    "        \"delta\": \"last\",\n",
    "        \"theta\": \"last\",\n",
    "        \"lastTradingDay\": \"last\", \n",
    "        \"quoteTimeInLong\": \"last\",\n",
    "        \"daysToExpiration\": \"last\",\n",
    "        \"volatility\": \"last\",\n",
    "        \"lastTradingDayDes\": \"last\",\n",
    "        \"lastTradingDayWeekNumber\": \"last\",\n",
    "\n",
    "    }).sort_values([\"symbol\"])\n",
    ").copy()"
   ]
  },
  {
   "cell_type": "code",
   "execution_count": 11,
   "id": "18e5afd6-ebdc-4dba-96f0-7aa3212e8b5e",
   "metadata": {},
   "outputs": [],
   "source": [
    "idf = tdf.copy()\n",
    "\n",
    "def gen_friday_and_following_monday(input_df):\n",
    "    \"\"\"\n",
    "    Generate a df with Friday data as Front following Monday (t+1 market days) as Back\n",
    "\n",
    "    Input:\n",
    "        input_df(pd.DataFrame): df\n",
    "\n",
    "    Returns:\n",
    "        df(pd.DataFrame): with finx_desc=fm3dte_calendar\n",
    "    \"\"\"\n",
    "    df = input_df.copy()\n",
    "    for _, grouped in df.groupby([\"strike\", \"call_put\"]):\n",
    "        for idx, row in grouped.iterrows():\n",
    "            last_ew_row = find_matching_row(df, row, dte_diff=-3)\n",
    "            df.loc[idx, \"matchingSymbol\"] = np.NaN if last_ew_row is None else last_ew_row.name\n",
    "    comp = pd.merge(df, df, left_on=\"matchingSymbol\", right_index=True, suffixes=(\"_f\", \"_b\"))\n",
    "    comp[\"finx_desc\"] = \"fm3dte_calendar\"\n",
    "    return comp\n",
    "\n",
    "\n",
    "def gen_friday_and_following_friday(input_df):\n",
    "    \"\"\"\n",
    "    Generate a df with Friday data as Front following Friday (t+7 market days) as Back\n",
    "\n",
    "    Input:\n",
    "        input_df(pd.DataFrame): df\n",
    "\n",
    "    Returns:\n",
    "        df(pd.DataFrame): with finx_desc=ff7dte_calendar\n",
    "    \"\"\"\n",
    "    df = input_df.copy()\n",
    "    for _, grouped in df.groupby([\"strike\", \"call_put\"]):\n",
    "        for idx, row in grouped.iterrows():\n",
    "            last_ew_row = find_matching_row(df, row, dte_diff=-7)\n",
    "            df.loc[idx, \"matchingSymbol\"] = np.NaN if last_ew_row is None else last_ew_row.name\n",
    "    comp = pd.merge(df, df, left_on=\"matchingSymbol\", right_index=True, suffixes=(\"_f\", \"_b\"))\n",
    "    comp[\"finx_desc\"] = \"ff7dte_calendar\"\n",
    "    return comp\n",
    "\n",
    "comp = gen_friday_and_following_monday(idf)"
   ]
  },
  {
   "cell_type": "code",
   "execution_count": 12,
   "id": "64b104fd",
   "metadata": {},
   "outputs": [
    {
     "name": "stdout",
     "output_type": "stream",
     "text": [
      "DTE = [10]\n"
     ]
    },
    {
     "data": {
      "image/png": "[encoded data removed]",
      "text/plain": [
       "<Figure size 864x1440 with 5 Axes>"
      ]
     },
     "metadata": {
      "needs_background": "light"
     },
     "output_type": "display_data"
    }
   ],
   "source": [
    "# def calc_front_back_mid_diff(df) -> None:\n",
    "#     \"\"\"\n",
    "#     Calc the mid diff between -AskBid_front + AskBid_back.\n",
    "#     Stores in mid_[f|b|diff].\n",
    "#     Returns: None\n",
    "#     \"\"\"\n",
    "#     df[\"mid_f\"] = (df[\"ask_f\"]-df[\"bid_f\"])\n",
    "#     df[\"mid_b\"] = (df[\"ask_b\"]-df[\"bid_b\"])\n",
    "#     df[\"mid_diff\"] = - df[\"mid_f\"] + df[\"mid_b\"]\n",
    "#     return None\n",
    "\n",
    "# def calc_front_back_volitality_diff(df) -> None:\n",
    "#     \"\"\"\n",
    "#     Calc the volatility diff between -volatility_f + volatility_b\n",
    "#     Stores in volatility_diff.\n",
    "#     Returns: None\n",
    "#     \"\"\"\n",
    "#     df[\"volatility_diff\"] = -df[\"volatility_f\"] + df[\"volatility_b\"]\n",
    "#     return None\n",
    "\n",
    "\n",
    "\n",
    "calc_front_back_mid_diff(comp)\n",
    "calc_front_back_volitality_diff(comp)\n",
    "calc_front_back_delta_diff(comp)\n",
    "calc_front_back_theta_diff(comp)\n",
    "\n",
    "plot_df = comp.query(\"lastTradingDayDes_f == 'EW1'\")\n",
    "\n",
    "print(f\"DTE = {plot_df.daysToExpiration_f.unique()}\")\n",
    "\n",
    "call_put = \"p\"\n",
    "\n",
    "# plot df\n",
    "plot_df = (\n",
    "    plot_df[[\"volatility_diff\", \"mid_diff\", \"delta_f\", \"delta_diff\", \"theta_diff\", \"call_put_f\", \"strike_f\"]].\n",
    "    query(f\"call_put_f == '{call_put}'\").\n",
    "    query(\"-0.8 < delta_f and delta_f < -0.1\").\n",
    "    set_index(\"strike_f\")\n",
    ")\n",
    "\n",
    "# gets subplots\n",
    "axes = plot_df.plot.bar(subplots=True, figsize=(12, 20))\n",
    "\n",
    "# determine x value and plot_df index for ATM (50 delta) strike\n",
    "delta_50_index_value = plot_df.delta_f.add(0.7).abs().idxmin()\n",
    "x_value = plot_df.index.searchsorted(delta_50_index_value)\n",
    "\n",
    "# highlight the ATM strike\n",
    "for ax in axes:\n",
    "    ax.axvline(x_value, color='red', linestyle='dashed')"
   ]
  },
  {
   "cell_type": "code",
   "execution_count": 24,
   "id": "41b1f433",
   "metadata": {},
   "outputs": [],
   "source": [
    "xdf = (comp.query(f\"call_put_f == '{call_put}'\").\n",
    "    query(\"-0.8 < delta_f and delta_f < -0.1\").\n",
    "    set_index(\"strike_f\"))\n",
    "\n",
    "df_to_save = xdf[xdf.index == delta_50_index_value][[\"lastTradingDayWeekNumber_f\", \"mid_diff\", \"volatility_diff\", \"delta_diff\", \"delta_f\", \"daysToExpiration_f\"]]\n",
    "\n",
    "# cols = [\"lastTradingDayWeekNumber_f\", \"mid_diff\", \"volatility_diff\", \"delta_diff\", \"delta_f\", \"daysToExpiration_f\"]\n",
    "\n",
    "\n",
    "# axes = xdf.query(\"daysToExpiration_f == 4\")[\"mid_diff\"].plot.bar(subplots=True, figsize=(12, 4))\n",
    "\n",
    "# # determine x value and plot_df index for ATM (50 delta) strike\n",
    "# delta_50_index_value = plot_df.delta_f.add(0.5).abs().idxmin()\n",
    "# x_value = plot_df.index.searchsorted(delta_50_index_value)\n",
    "\n",
    "# # highlight the ATM strike\n",
    "# for ax in axes:\n",
    "#     ax.axvline(x_value, color='red', linestyle='dashed')\n",
    "\n",
    "# # comp[\"matchingSymbol\"]\n",
    "# # axes = xdf.query(\"daysToExpiration_f == 18\")[cols].plot.bar(subplots=True, figsize=(12, 20))"
   ]
  },
  {
   "cell_type": "code",
   "execution_count": 35,
   "id": "d229837b",
   "metadata": {},
   "outputs": [
    {
     "ename": "AttributeError",
     "evalue": "'Engine' object has no attribute '_instantiate_plugins'",
     "output_type": "error",
     "traceback": [
      "\u001b[0;31m---------------------------------------------------------------------------\u001b[0m",
      "\u001b[0;31mAttributeError\u001b[0m                            Traceback (most recent call last)",
      "\u001b[0;32m/var/folders/9r/2bnrwj3d0fq0gmb281y8z8k40000gn/T/ipykernel_86246/2963220941.py\u001b[0m in \u001b[0;36m<module>\u001b[0;34m\u001b[0m\n\u001b[1;32m      4\u001b[0m \u001b[0mconn_str\u001b[0m\u001b[0;34m\u001b[0m\u001b[0;34m\u001b[0m\u001b[0m\n\u001b[1;32m      5\u001b[0m \u001b[0;34m\u001b[0m\u001b[0m\n\u001b[0;32m----> 6\u001b[0;31m \u001b[0mengine\u001b[0m \u001b[0;34m=\u001b[0m \u001b[0mcreate_engine\u001b[0m\u001b[0;34m(\u001b[0m\u001b[0mconn_str\u001b[0m\u001b[0;34m)\u001b[0m\u001b[0;34m\u001b[0m\u001b[0;34m\u001b[0m\u001b[0m\n\u001b[0m",
      "\u001b[0;32m<string>\u001b[0m in \u001b[0;36mcreate_engine\u001b[0;34m(url, **kwargs)\u001b[0m\n",
      "\u001b[0;32m~/.pyenv/versions/3.7.7/envs/finx-options-data/lib/python3.7/site-packages/sqlalchemy/util/deprecations.py\u001b[0m in \u001b[0;36mwarned\u001b[0;34m(fn, *args, **kwargs)\u001b[0m\n\u001b[1;32m    296\u001b[0m                         \u001b[0mstacklevel\u001b[0m\u001b[0;34m=\u001b[0m\u001b[0;36m3\u001b[0m\u001b[0;34m,\u001b[0m\u001b[0;34m\u001b[0m\u001b[0;34m\u001b[0m\u001b[0m\n\u001b[1;32m    297\u001b[0m                     )\n\u001b[0;32m--> 298\u001b[0;31m             \u001b[0;32mreturn\u001b[0m \u001b[0mfn\u001b[0m\u001b[0;34m(\u001b[0m\u001b[0;34m*\u001b[0m\u001b[0margs\u001b[0m\u001b[0;34m,\u001b[0m \u001b[0;34m**\u001b[0m\u001b[0mkwargs\u001b[0m\u001b[0;34m)\u001b[0m\u001b[0;34m\u001b[0m\u001b[0;34m\u001b[0m\u001b[0m\n\u001b[0m\u001b[1;32m    299\u001b[0m \u001b[0;34m\u001b[0m\u001b[0m\n\u001b[1;32m    300\u001b[0m         \u001b[0mdoc\u001b[0m \u001b[0;34m=\u001b[0m \u001b[0mfn\u001b[0m\u001b[0;34m.\u001b[0m\u001b[0m__doc__\u001b[0m \u001b[0;32mis\u001b[0m \u001b[0;32mnot\u001b[0m \u001b[0;32mNone\u001b[0m \u001b[0;32mand\u001b[0m \u001b[0mfn\u001b[0m\u001b[0;34m.\u001b[0m\u001b[0m__doc__\u001b[0m \u001b[0;32mor\u001b[0m \u001b[0;34m\"\"\u001b[0m\u001b[0;34m\u001b[0m\u001b[0;34m\u001b[0m\u001b[0m\n",
      "\u001b[0;32m~/.pyenv/versions/3.7.7/envs/finx-options-data/lib/python3.7/site-packages/sqlalchemy/engine/create.py\u001b[0m in \u001b[0;36mcreate_engine\u001b[0;34m(url, **kwargs)\u001b[0m\n\u001b[1;32m    518\u001b[0m     \u001b[0mu\u001b[0m \u001b[0;34m=\u001b[0m \u001b[0m_url\u001b[0m\u001b[0;34m.\u001b[0m\u001b[0mmake_url\u001b[0m\u001b[0;34m(\u001b[0m\u001b[0murl\u001b[0m\u001b[0;34m)\u001b[0m\u001b[0;34m\u001b[0m\u001b[0;34m\u001b[0m\u001b[0m\n\u001b[1;32m    519\u001b[0m \u001b[0;34m\u001b[0m\u001b[0m\n\u001b[0;32m--> 520\u001b[0;31m     \u001b[0mu\u001b[0m\u001b[0;34m,\u001b[0m \u001b[0mplugins\u001b[0m\u001b[0;34m,\u001b[0m \u001b[0mkwargs\u001b[0m \u001b[0;34m=\u001b[0m \u001b[0mu\u001b[0m\u001b[0;34m.\u001b[0m\u001b[0m_instantiate_plugins\u001b[0m\u001b[0;34m(\u001b[0m\u001b[0mkwargs\u001b[0m\u001b[0;34m)\u001b[0m\u001b[0;34m\u001b[0m\u001b[0;34m\u001b[0m\u001b[0m\n\u001b[0m\u001b[1;32m    521\u001b[0m \u001b[0;34m\u001b[0m\u001b[0m\n\u001b[1;32m    522\u001b[0m     \u001b[0mentrypoint\u001b[0m \u001b[0;34m=\u001b[0m \u001b[0mu\u001b[0m\u001b[0;34m.\u001b[0m\u001b[0m_get_entrypoint\u001b[0m\u001b[0;34m(\u001b[0m\u001b[0;34m)\u001b[0m\u001b[0;34m\u001b[0m\u001b[0;34m\u001b[0m\u001b[0m\n",
      "\u001b[0;31mAttributeError\u001b[0m: 'Engine' object has no attribute '_instantiate_plugins'"
     ]
    }
   ],
   "source": [
    "# df_to_save(\"metrics_v1\", con=engine, index=False)\n",
    "from sqlalchemy import create_engine\n",
    "conn_str = create_engine(config.metrics_postgres_connstr)\n",
    "conn_str\n",
    "\n",
    "engine = create_engine(conn_str)\n"
   ]
  }
 ],
 "metadata": {
  "interpreter": {
   "hash": "f2544d4cc79d14aa3b6d1446f0eef3303ce75f6a4200172a8b1bebd2837719e2"
  },
  "kernelspec": {
   "display_name": "finx-all",
   "language": "python",
   "name": "python3"
  },
  "language_info": {
   "codemirror_mode": {
    "name": "ipython",
    "version": 3
   },
   "file_extension": ".py",
   "mimetype": "text/x-python",
   "name": "python",
   "nbconvert_exporter": "python",
   "pygments_lexer": "ipython3",
   "version": "3.7.7"
  }
 },
 "nbformat": 4,
 "nbformat_minor": 5
}
